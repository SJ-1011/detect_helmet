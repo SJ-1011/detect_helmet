{
 "cells": [
  {
   "cell_type": "code",
   "execution_count": 1,
   "id": "c9e4d7f0",
   "metadata": {},
   "outputs": [],
   "source": [
    "import numpy as np\n",
    "import pandas as pd"
   ]
  },
  {
   "cell_type": "code",
   "execution_count": 5,
   "id": "76cb07ed",
   "metadata": {},
   "outputs": [
    {
     "name": "stdout",
     "output_type": "stream",
     "text": [
      "Requirement already satisfied: pillow in c:\\users\\user\\anaconda3\\lib\\site-packages (9.2.0)\n"
     ]
    },
    {
     "name": "stderr",
     "output_type": "stream",
     "text": [
      "\n",
      "[notice] A new release of pip is available: 23.0.1 -> 23.2.1\n",
      "[notice] To update, run: python.exe -m pip install --upgrade pip\n"
     ]
    }
   ],
   "source": [
    "! pip install pillow"
   ]
  },
  {
   "cell_type": "code",
   "execution_count": 10,
   "id": "686e6e24",
   "metadata": {},
   "outputs": [
    {
     "name": "stdout",
     "output_type": "stream",
     "text": [
      "WARNING: BikesHelmets35.xml - Bounding box information is missing. Skipping this image.\n",
      "WARNING: BikesHelmets459.xml - Bounding box information is missing. Skipping this image.\n",
      "WARNING: BikesHelmets735.xml - Bounding box information is missing. Skipping this image.\n"
     ]
    }
   ],
   "source": [
    "import os\n",
    "from PIL import Image\n",
    "import xml.etree.ElementTree as ET\n",
    "import numpy as np\n",
    "\n",
    "# 이미지와 XML 파일이 있는 폴더 경로를 설정합니다.\n",
    "image_folder = 'images'\n",
    "xml_folder = 'annotations'\n",
    "\n",
    "# 이미지 크기를 설정합니다. (YOLO 입력 이미지 크기)\n",
    "input_size = (416, 416)\n",
    "\n",
    "# YOLO 모델에 입력으로 사용할 데이터셋을 저장할 리스트를 생성합니다.\n",
    "dataset = []\n",
    "\n",
    "# annotations 폴더 안에 있는 모든 XML 파일을 순회합니다.\n",
    "for filename in os.listdir(xml_folder):\n",
    "    if filename.endswith('.xml'):\n",
    "        xml_path = os.path.join(xml_folder, filename)\n",
    "        \n",
    "        # XML 파일을 파싱하여 바운딩 박스 정보를 추출합니다.\n",
    "        tree = ET.parse(xml_path)\n",
    "        root = tree.getroot()\n",
    "        \n",
    "        # 바운딩 박스 요소를 찾고, 요소가 존재하지 않는 경우 해당 이미지를 건너뜁니다.\n",
    "        xmin_element = root.find('.//xmin')\n",
    "        ymin_element = root.find('.//ymin')\n",
    "        xmax_element = root.find('.//xmax')\n",
    "        ymax_element = root.find('.//ymax')\n",
    "        if xmin_element is None or ymin_element is None or xmax_element is None or ymax_element is None:\n",
    "            print(f\"WARNING: {filename} - Bounding box information is missing. Skipping this image.\")\n",
    "            continue\n",
    "        \n",
    "        xmin = int(xmin_element.text)\n",
    "        ymin = int(ymin_element.text)\n",
    "        xmax = int(xmax_element.text)\n",
    "        ymax = int(ymax_element.text)\n",
    "        \n",
    "        # 이미지 파일 경로를 생성합니다.\n",
    "        image_filename = os.path.splitext(filename)[0] + '.png'\n",
    "        image_path = os.path.join(image_folder, image_filename)\n",
    "        \n",
    "        # 이미지 로드\n",
    "        image = Image.open(image_path)\n",
    "        \n",
    "        # 이미지 크기 조정\n",
    "        image = image.resize(input_size)\n",
    "        \n",
    "        # 이미지를 numpy 배열로 변환하고 픽셀 값을 0과 1 사이로 스케일링\n",
    "        image_array = np.array(image) / 255.0\n",
    "        \n",
    "        # 바운딩 박스 좌표를 정규화하여 YOLO 형식으로 변환\n",
    "        x_center = (xmin + xmax) / 2 / image.width\n",
    "        y_center = (ymin + ymax) / 2 / image.height\n",
    "        width = (xmax - xmin) / image.width\n",
    "        height = (ymax - ymin) / image.height\n",
    "        \n",
    "        # YOLO 모델에 입력으로 사용할 형식으로 데이터를 저장\n",
    "        dataset.append([image_array, x_center, y_center, width, height])\n",
    "\n",
    "# 데이터셋을 저장하고 나중에 훈련에 사용할 수 있도록 준비합니다.\n",
    "# dataset를 훈련에 적합한 형태로 변환하고, DataLoader 등을 이용하여 사용할 수 있습니다.\n"
   ]
  },
  {
   "cell_type": "code",
   "execution_count": 16,
   "id": "3c3449bd",
   "metadata": {},
   "outputs": [
    {
     "name": "stdout",
     "output_type": "stream",
     "text": [
      "Requirement already satisfied: yolov5 in c:\\users\\user\\appdata\\roaming\\python\\python39\\site-packages (7.0.12)\n",
      "Requirement already satisfied: thop>=0.1.1 in c:\\users\\user\\appdata\\roaming\\python\\python39\\site-packages (from yolov5) (0.1.1.post2209072238)\n",
      "Requirement already satisfied: torchvision>=0.8.1 in c:\\users\\user\\appdata\\roaming\\python\\python39\\site-packages (from yolov5) (0.15.2)\n",
      "Requirement already satisfied: psutil in c:\\users\\user\\anaconda3\\lib\\site-packages (from yolov5) (5.9.0)\n",
      "Requirement already satisfied: setuptools>=65.5.1 in c:\\users\\user\\anaconda3\\lib\\site-packages (from yolov5) (68.0.0)\n",
      "Requirement already satisfied: roboflow>=0.2.29 in c:\\users\\user\\appdata\\roaming\\python\\python39\\site-packages (from yolov5) (1.1.2)\n",
      "Requirement already satisfied: opencv-python>=4.1.1 in c:\\users\\user\\anaconda3\\lib\\site-packages (from yolov5) (4.8.0.74)\n",
      "Requirement already satisfied: ultralytics>=8.0.100 in c:\\users\\user\\appdata\\roaming\\python\\python39\\site-packages (from yolov5) (8.0.148)\n",
      "Requirement already satisfied: huggingface-hub>=0.12.0 in c:\\users\\user\\appdata\\roaming\\python\\python39\\site-packages (from yolov5) (0.16.4)\n",
      "Requirement already satisfied: fire in c:\\users\\user\\appdata\\roaming\\python\\python39\\site-packages (from yolov5) (0.5.0)\n",
      "Requirement already satisfied: Pillow>=7.1.2 in c:\\users\\user\\anaconda3\\lib\\site-packages (from yolov5) (8.4.0)\n",
      "Requirement already satisfied: tensorboard>=2.4.1 in c:\\users\\user\\appdata\\roaming\\python\\python39\\site-packages (from yolov5) (2.13.0)\n",
      "Requirement already satisfied: gitpython>=3.1.30 in c:\\users\\user\\appdata\\roaming\\python\\python39\\site-packages (from yolov5) (3.1.32)\n",
      "Requirement already satisfied: pandas>=1.1.4 in c:\\users\\user\\anaconda3\\lib\\site-packages (from yolov5) (1.4.4)\n",
      "Requirement already satisfied: torch>=1.7.0 in c:\\users\\user\\appdata\\roaming\\python\\python39\\site-packages (from yolov5) (2.0.1)\n",
      "Requirement already satisfied: requests>=2.23.0 in c:\\users\\user\\anaconda3\\lib\\site-packages (from yolov5) (2.28.1)\n",
      "Requirement already satisfied: seaborn>=0.11.0 in c:\\users\\user\\anaconda3\\lib\\site-packages (from yolov5) (0.11.2)\n",
      "Requirement already satisfied: sahi>=0.11.10 in c:\\users\\user\\appdata\\roaming\\python\\python39\\site-packages (from yolov5) (0.11.14)\n",
      "Requirement already satisfied: PyYAML>=5.3.1 in c:\\users\\user\\anaconda3\\lib\\site-packages (from yolov5) (6.0)\n",
      "Requirement already satisfied: numpy>=1.18.5 in c:\\users\\user\\anaconda3\\lib\\site-packages (from yolov5) (1.24.4)\n",
      "Requirement already satisfied: matplotlib>=3.3 in c:\\users\\user\\appdata\\roaming\\python\\python39\\site-packages (from yolov5) (3.7.2)\n",
      "Requirement already satisfied: tqdm>=4.64.0 in c:\\users\\user\\anaconda3\\lib\\site-packages (from yolov5) (4.64.1)\n",
      "Requirement already satisfied: scipy>=1.4.1 in c:\\users\\user\\anaconda3\\lib\\site-packages (from yolov5) (1.9.1)\n",
      "Requirement already satisfied: boto3>=1.19.1 in c:\\users\\user\\anaconda3\\lib\\site-packages (from yolov5) (1.24.28)\n",
      "Requirement already satisfied: jmespath<2.0.0,>=0.7.1 in c:\\users\\user\\anaconda3\\lib\\site-packages (from boto3>=1.19.1->yolov5) (0.10.0)\n",
      "Requirement already satisfied: botocore<1.28.0,>=1.27.28 in c:\\users\\user\\anaconda3\\lib\\site-packages (from boto3>=1.19.1->yolov5) (1.27.28)\n",
      "Requirement already satisfied: s3transfer<0.7.0,>=0.6.0 in c:\\users\\user\\anaconda3\\lib\\site-packages (from boto3>=1.19.1->yolov5) (0.6.0)\n",
      "Requirement already satisfied: gitdb<5,>=4.0.1 in c:\\users\\user\\appdata\\roaming\\python\\python39\\site-packages (from gitpython>=3.1.30->yolov5) (4.0.10)\n",
      "Requirement already satisfied: fsspec in c:\\users\\user\\anaconda3\\lib\\site-packages (from huggingface-hub>=0.12.0->yolov5) (2022.7.1)\n",
      "Requirement already satisfied: filelock in c:\\users\\user\\anaconda3\\lib\\site-packages (from huggingface-hub>=0.12.0->yolov5) (3.6.0)\n",
      "Requirement already satisfied: packaging>=20.9 in c:\\users\\user\\anaconda3\\lib\\site-packages (from huggingface-hub>=0.12.0->yolov5) (21.3)\n",
      "Requirement already satisfied: typing-extensions>=3.7.4.3 in c:\\users\\user\\anaconda3\\lib\\site-packages (from huggingface-hub>=0.12.0->yolov5) (4.3.0)\n",
      "Requirement already satisfied: cycler>=0.10 in c:\\users\\user\\appdata\\roaming\\python\\python39\\site-packages (from matplotlib>=3.3->yolov5) (0.10.0)\n",
      "Requirement already satisfied: python-dateutil>=2.7 in c:\\users\\user\\anaconda3\\lib\\site-packages (from matplotlib>=3.3->yolov5) (2.8.2)\n",
      "Requirement already satisfied: importlib-resources>=3.2.0 in c:\\users\\user\\appdata\\roaming\\python\\python39\\site-packages (from matplotlib>=3.3->yolov5) (6.0.0)\n",
      "Requirement already satisfied: contourpy>=1.0.1 in c:\\users\\user\\appdata\\roaming\\python\\python39\\site-packages (from matplotlib>=3.3->yolov5) (1.1.0)\n",
      "Requirement already satisfied: pyparsing<3.1,>=2.3.1 in c:\\users\\user\\anaconda3\\lib\\site-packages (from matplotlib>=3.3->yolov5) (2.4.7)\n",
      "Requirement already satisfied: fonttools>=4.22.0 in c:\\users\\user\\anaconda3\\lib\\site-packages (from matplotlib>=3.3->yolov5) (4.25.0)\n",
      "Requirement already satisfied: kiwisolver>=1.0.1 in c:\\users\\user\\anaconda3\\lib\\site-packages (from matplotlib>=3.3->yolov5) (1.4.2)\n",
      "Requirement already satisfied: pytz>=2020.1 in c:\\users\\user\\anaconda3\\lib\\site-packages (from pandas>=1.1.4->yolov5) (2022.1)\n",
      "Requirement already satisfied: idna<4,>=2.5 in c:\\users\\user\\appdata\\roaming\\python\\python39\\site-packages (from requests>=2.23.0->yolov5) (2.10)\n",
      "Requirement already satisfied: charset-normalizer<3,>=2 in c:\\users\\user\\anaconda3\\lib\\site-packages (from requests>=2.23.0->yolov5) (2.0.4)\n",
      "Requirement already satisfied: certifi>=2017.4.17 in c:\\users\\user\\appdata\\roaming\\python\\python39\\site-packages (from requests>=2.23.0->yolov5) (2022.12.7)\n",
      "Requirement already satisfied: urllib3<1.27,>=1.21.1 in c:\\users\\user\\anaconda3\\lib\\site-packages (from requests>=2.23.0->yolov5) (1.26.11)\n",
      "Requirement already satisfied: chardet==4.0.0 in c:\\users\\user\\anaconda3\\lib\\site-packages (from roboflow>=0.2.29->yolov5) (4.0.0)\n",
      "Requirement already satisfied: python-dotenv in c:\\users\\user\\anaconda3\\lib\\site-packages (from roboflow>=0.2.29->yolov5) (1.0.0)\n",
      "Requirement already satisfied: supervision in c:\\users\\user\\appdata\\roaming\\python\\python39\\site-packages (from roboflow>=0.2.29->yolov5) (0.12.0)\n",
      "Requirement already satisfied: requests-toolbelt in c:\\users\\user\\appdata\\roaming\\python\\python39\\site-packages (from roboflow>=0.2.29->yolov5) (1.0.0)\n",
      "Requirement already satisfied: wget in c:\\users\\user\\anaconda3\\lib\\site-packages (from roboflow>=0.2.29->yolov5) (3.2)\n",
      "Requirement already satisfied: six in c:\\users\\user\\anaconda3\\lib\\site-packages (from roboflow>=0.2.29->yolov5) (1.16.0)\n",
      "Requirement already satisfied: pybboxes==0.1.6 in c:\\users\\user\\anaconda3\\lib\\site-packages (from sahi>=0.11.10->yolov5) (0.1.6)\n",
      "Requirement already satisfied: shapely>=1.8.0 in c:\\users\\user\\anaconda3\\lib\\site-packages (from sahi>=0.11.10->yolov5) (2.0.1)\n",
      "Requirement already satisfied: terminaltables in c:\\users\\user\\anaconda3\\lib\\site-packages (from sahi>=0.11.10->yolov5) (3.1.10)\n",
      "Requirement already satisfied: click in c:\\users\\user\\anaconda3\\lib\\site-packages (from sahi>=0.11.10->yolov5) (8.0.4)\n",
      "Requirement already satisfied: grpcio>=1.48.2 in c:\\users\\user\\appdata\\roaming\\python\\python39\\site-packages (from tensorboard>=2.4.1->yolov5) (1.56.2)\n",
      "Requirement already satisfied: wheel>=0.26 in c:\\users\\user\\anaconda3\\lib\\site-packages (from tensorboard>=2.4.1->yolov5) (0.37.1)\n",
      "Requirement already satisfied: absl-py>=0.4 in c:\\users\\user\\appdata\\roaming\\python\\python39\\site-packages (from tensorboard>=2.4.1->yolov5) (1.4.0)\n",
      "Requirement already satisfied: werkzeug>=1.0.1 in c:\\users\\user\\anaconda3\\lib\\site-packages (from tensorboard>=2.4.1->yolov5) (2.0.3)\n",
      "Requirement already satisfied: markdown>=2.6.8 in c:\\users\\user\\anaconda3\\lib\\site-packages (from tensorboard>=2.4.1->yolov5) (3.3.4)\n",
      "Requirement already satisfied: google-auth-oauthlib<1.1,>=0.5 in c:\\users\\user\\appdata\\roaming\\python\\python39\\site-packages (from tensorboard>=2.4.1->yolov5) (1.0.0)\n",
      "Requirement already satisfied: google-auth<3,>=1.6.3 in c:\\users\\user\\appdata\\roaming\\python\\python39\\site-packages (from tensorboard>=2.4.1->yolov5) (2.22.0)\n",
      "Requirement already satisfied: protobuf>=3.19.6 in c:\\users\\user\\anaconda3\\lib\\site-packages (from tensorboard>=2.4.1->yolov5) (4.23.4)\n",
      "Requirement already satisfied: tensorboard-data-server<0.8.0,>=0.7.0 in c:\\users\\user\\anaconda3\\lib\\site-packages (from tensorboard>=2.4.1->yolov5) (0.7.1)\n",
      "Requirement already satisfied: jinja2 in c:\\users\\user\\anaconda3\\lib\\site-packages (from torch>=1.7.0->yolov5) (2.11.3)\n",
      "Requirement already satisfied: networkx in c:\\users\\user\\anaconda3\\lib\\site-packages (from torch>=1.7.0->yolov5) (2.8.4)\n",
      "Requirement already satisfied: sympy in c:\\users\\user\\anaconda3\\lib\\site-packages (from torch>=1.7.0->yolov5) (1.10.1)\n",
      "Requirement already satisfied: colorama in c:\\users\\user\\anaconda3\\lib\\site-packages (from tqdm>=4.64.0->yolov5) (0.4.5)\n",
      "Requirement already satisfied: py-cpuinfo in c:\\users\\user\\anaconda3\\lib\\site-packages (from ultralytics>=8.0.100->yolov5) (9.0.0)\n",
      "Requirement already satisfied: termcolor in c:\\users\\user\\anaconda3\\lib\\site-packages (from fire->yolov5) (2.3.0)\n",
      "Requirement already satisfied: smmap<6,>=3.0.1 in c:\\users\\user\\anaconda3\\lib\\site-packages (from gitdb<5,>=4.0.1->gitpython>=3.1.30->yolov5) (5.0.0)\n",
      "Requirement already satisfied: cachetools<6.0,>=2.0.0 in c:\\users\\user\\appdata\\roaming\\python\\python39\\site-packages (from google-auth<3,>=1.6.3->tensorboard>=2.4.1->yolov5) (5.3.1)\n",
      "Requirement already satisfied: rsa<5,>=3.1.4 in c:\\users\\user\\anaconda3\\lib\\site-packages (from google-auth<3,>=1.6.3->tensorboard>=2.4.1->yolov5) (4.9)\n",
      "Requirement already satisfied: pyasn1-modules>=0.2.1 in c:\\users\\user\\anaconda3\\lib\\site-packages (from google-auth<3,>=1.6.3->tensorboard>=2.4.1->yolov5) (0.2.8)\n",
      "Requirement already satisfied: requests-oauthlib>=0.7.0 in c:\\users\\user\\appdata\\roaming\\python\\python39\\site-packages (from google-auth-oauthlib<1.1,>=0.5->tensorboard>=2.4.1->yolov5) (1.3.1)\n",
      "Requirement already satisfied: zipp>=3.1.0 in c:\\users\\user\\anaconda3\\lib\\site-packages (from importlib-resources>=3.2.0->matplotlib>=3.3->yolov5) (3.8.0)\n",
      "Requirement already satisfied: MarkupSafe>=0.23 in c:\\users\\user\\anaconda3\\lib\\site-packages (from jinja2->torch>=1.7.0->yolov5) (2.0.1)\n",
      "Requirement already satisfied: opencv-python-headless<5.0.0.0,>=4.8.0.74 in c:\\users\\user\\appdata\\roaming\\python\\python39\\site-packages (from supervision->roboflow>=0.2.29->yolov5) (4.8.0.74)\n",
      "Requirement already satisfied: mpmath>=0.19 in c:\\users\\user\\anaconda3\\lib\\site-packages (from sympy->torch>=1.7.0->yolov5) (1.2.1)\n",
      "Requirement already satisfied: pyasn1<0.5.0,>=0.4.6 in c:\\users\\user\\anaconda3\\lib\\site-packages (from pyasn1-modules>=0.2.1->google-auth<3,>=1.6.3->tensorboard>=2.4.1->yolov5) (0.4.8)\n",
      "Requirement already satisfied: oauthlib>=3.0.0 in c:\\users\\user\\appdata\\roaming\\python\\python39\\site-packages (from requests-oauthlib>=0.7.0->google-auth-oauthlib<1.1,>=0.5->tensorboard>=2.4.1->yolov5) (3.2.2)\n"
     ]
    },
    {
     "name": "stderr",
     "output_type": "stream",
     "text": [
      "WARNING: Ignoring invalid distribution -illow (c:\\users\\user\\anaconda3\\lib\\site-packages)\n",
      "WARNING: Ignoring invalid distribution -illow (c:\\users\\user\\anaconda3\\lib\\site-packages)\n",
      "WARNING: Ignoring invalid distribution -illow (c:\\users\\user\\anaconda3\\lib\\site-packages)\n",
      "WARNING: Ignoring invalid distribution -illow (c:\\users\\user\\anaconda3\\lib\\site-packages)\n",
      "WARNING: Ignoring invalid distribution -illow (c:\\users\\user\\anaconda3\\lib\\site-packages)\n",
      "WARNING: Ignoring invalid distribution -illow (c:\\users\\user\\anaconda3\\lib\\site-packages)\n",
      "\n",
      "[notice] A new release of pip is available: 23.0.1 -> 23.2.1\n",
      "[notice] To update, run: python.exe -m pip install --upgrade pip\n"
     ]
    }
   ],
   "source": [
    "! python -m pip install yolov5"
   ]
  },
  {
   "cell_type": "code",
   "execution_count": 18,
   "id": "28ee8ac0",
   "metadata": {},
   "outputs": [
    {
     "name": "stderr",
     "output_type": "stream",
     "text": [
      "WARNING: Ignoring invalid distribution -illow (c:\\users\\user\\anaconda3\\lib\\site-packages)\n",
      "WARNING: Ignoring invalid distribution -illow (c:\\users\\user\\anaconda3\\lib\\site-packages)\n",
      "WARNING: Ignoring invalid distribution -illow (c:\\users\\user\\anaconda3\\lib\\site-packages)\n",
      "WARNING: Ignoring invalid distribution -illow (c:\\users\\user\\anaconda3\\lib\\site-packages)\n",
      "WARNING: Ignoring invalid distribution -illow (c:\\users\\user\\anaconda3\\lib\\site-packages)\n",
      "WARNING: Ignoring invalid distribution -illow (c:\\users\\user\\anaconda3\\lib\\site-packages)\n",
      "\n",
      "[notice] A new release of pip is available: 23.0.1 -> 23.2.1\n",
      "[notice] To update, run: python.exe -m pip install --upgrade pip\n"
     ]
    },
    {
     "name": "stdout",
     "output_type": "stream",
     "text": [
      "Requirement already satisfied: torch in c:\\users\\user\\appdata\\roaming\\python\\python39\\site-packages (2.0.1)\n",
      "Requirement already satisfied: torchvision in c:\\users\\user\\appdata\\roaming\\python\\python39\\site-packages (0.15.2)\n",
      "Requirement already satisfied: jinja2 in c:\\users\\user\\anaconda3\\lib\\site-packages (from torch) (2.11.3)\n",
      "Requirement already satisfied: typing-extensions in c:\\users\\user\\anaconda3\\lib\\site-packages (from torch) (4.3.0)\n",
      "Requirement already satisfied: sympy in c:\\users\\user\\anaconda3\\lib\\site-packages (from torch) (1.10.1)\n",
      "Requirement already satisfied: filelock in c:\\users\\user\\anaconda3\\lib\\site-packages (from torch) (3.6.0)\n",
      "Requirement already satisfied: networkx in c:\\users\\user\\anaconda3\\lib\\site-packages (from torch) (2.8.4)\n",
      "Requirement already satisfied: pillow!=8.3.*,>=5.3.0 in c:\\users\\user\\anaconda3\\lib\\site-packages (from torchvision) (8.4.0)\n",
      "Requirement already satisfied: numpy in c:\\users\\user\\anaconda3\\lib\\site-packages (from torchvision) (1.24.4)\n",
      "Requirement already satisfied: requests in c:\\users\\user\\anaconda3\\lib\\site-packages (from torchvision) (2.28.1)\n",
      "Requirement already satisfied: MarkupSafe>=0.23 in c:\\users\\user\\anaconda3\\lib\\site-packages (from jinja2->torch) (2.0.1)\n",
      "Requirement already satisfied: certifi>=2017.4.17 in c:\\users\\user\\appdata\\roaming\\python\\python39\\site-packages (from requests->torchvision) (2022.12.7)\n",
      "Requirement already satisfied: charset-normalizer<3,>=2 in c:\\users\\user\\anaconda3\\lib\\site-packages (from requests->torchvision) (2.0.4)\n",
      "Requirement already satisfied: idna<4,>=2.5 in c:\\users\\user\\appdata\\roaming\\python\\python39\\site-packages (from requests->torchvision) (2.10)\n",
      "Requirement already satisfied: urllib3<1.27,>=1.21.1 in c:\\users\\user\\anaconda3\\lib\\site-packages (from requests->torchvision) (1.26.11)\n",
      "Requirement already satisfied: mpmath>=0.19 in c:\\users\\user\\anaconda3\\lib\\site-packages (from sympy->torch) (1.2.1)\n"
     ]
    }
   ],
   "source": [
    "!pip install torch torchvision"
   ]
  },
  {
   "cell_type": "code",
   "execution_count": 20,
   "id": "21efd620",
   "metadata": {},
   "outputs": [
    {
     "name": "stdout",
     "output_type": "stream",
     "text": [
      "Requirement already satisfied: pip in c:\\users\\user\\anaconda3\\lib\\site-packages (23.0.1)\n",
      "Collecting pip\n",
      "  Downloading pip-23.2.1-py3-none-any.whl (2.1 MB)\n",
      "     ---------------------------------------- 2.1/2.1 MB 1.2 MB/s eta 0:00:00\n",
      "Installing collected packages: pip\n",
      "  Attempting uninstall: pip\n",
      "    Found existing installation: pip 23.0.1\n",
      "    Uninstalling pip-23.0.1:\n",
      "      Successfully uninstalled pip-23.0.1\n",
      "Successfully installed pip-23.2.1\n"
     ]
    },
    {
     "name": "stderr",
     "output_type": "stream",
     "text": [
      "WARNING: Ignoring invalid distribution -illow (c:\\users\\user\\anaconda3\\lib\\site-packages)\n",
      "WARNING: Ignoring invalid distribution -illow (c:\\users\\user\\anaconda3\\lib\\site-packages)\n",
      "WARNING: Ignoring invalid distribution -illow (c:\\users\\user\\anaconda3\\lib\\site-packages)\n",
      "    WARNING: Ignoring invalid distribution -illow (c:\\users\\user\\anaconda3\\lib\\site-packages)\n",
      "WARNING: Ignoring invalid distribution -illow (c:\\users\\user\\anaconda3\\lib\\site-packages)\n",
      "WARNING: Ignoring invalid distribution -illow (c:\\users\\user\\anaconda3\\lib\\site-packages)\n",
      "WARNING: Ignoring invalid distribution -illow (c:\\users\\user\\anaconda3\\lib\\site-packages)\n",
      "WARNING: Ignoring invalid distribution -illow (c:\\users\\user\\anaconda3\\lib\\site-packages)\n"
     ]
    }
   ],
   "source": [
    "! python -m pip install --upgrade pip"
   ]
  },
  {
   "cell_type": "code",
   "execution_count": 19,
   "id": "a0a19870",
   "metadata": {},
   "outputs": [
    {
     "ename": "ModuleNotFoundError",
     "evalue": "No module named 'torch'",
     "output_type": "error",
     "traceback": [
      "\u001b[1;31m---------------------------------------------------------------------------\u001b[0m",
      "\u001b[1;31mModuleNotFoundError\u001b[0m                       Traceback (most recent call last)",
      "\u001b[1;32m~\\AppData\\Local\\Temp\\ipykernel_6320\\1054295367.py\u001b[0m in \u001b[0;36m<module>\u001b[1;34m\u001b[0m\n\u001b[1;32m----> 1\u001b[1;33m \u001b[1;32mimport\u001b[0m \u001b[0mtorch\u001b[0m\u001b[1;33m\u001b[0m\u001b[1;33m\u001b[0m\u001b[0m\n\u001b[0m\u001b[0;32m      2\u001b[0m \u001b[1;32mfrom\u001b[0m \u001b[0mtorch\u001b[0m\u001b[1;33m.\u001b[0m\u001b[0mutils\u001b[0m\u001b[1;33m.\u001b[0m\u001b[0mdata\u001b[0m \u001b[1;32mimport\u001b[0m \u001b[0mDataLoader\u001b[0m\u001b[1;33m\u001b[0m\u001b[1;33m\u001b[0m\u001b[0m\n\u001b[0;32m      3\u001b[0m \u001b[1;32mfrom\u001b[0m \u001b[0mtorchvision\u001b[0m\u001b[1;33m.\u001b[0m\u001b[0mtransforms\u001b[0m \u001b[1;32mimport\u001b[0m \u001b[0mfunctional\u001b[0m \u001b[1;32mas\u001b[0m \u001b[0mF\u001b[0m\u001b[1;33m\u001b[0m\u001b[1;33m\u001b[0m\u001b[0m\n\u001b[0;32m      4\u001b[0m \u001b[1;32mfrom\u001b[0m \u001b[0mpathlib\u001b[0m \u001b[1;32mimport\u001b[0m \u001b[0mPath\u001b[0m\u001b[1;33m\u001b[0m\u001b[1;33m\u001b[0m\u001b[0m\n\u001b[0;32m      5\u001b[0m \u001b[1;32mfrom\u001b[0m \u001b[0mtqdm\u001b[0m\u001b[1;33m.\u001b[0m\u001b[0mnotebook\u001b[0m \u001b[1;32mimport\u001b[0m \u001b[0mtqdm\u001b[0m\u001b[1;33m\u001b[0m\u001b[1;33m\u001b[0m\u001b[0m\n",
      "\u001b[1;31mModuleNotFoundError\u001b[0m: No module named 'torch'"
     ]
    }
   ],
   "source": [
    "import torch\n",
    "from torch.utils.data import DataLoader\n",
    "from torchvision.transforms import functional as F\n",
    "from pathlib import Path\n",
    "from tqdm.notebook import tqdm\n",
    "\n",
    "# 데이터셋 로드 (전처리된 데이터셋 사용)\n",
    "# dataset = YourCustomDataset(...)  # 전처리된 데이터셋을 로드하는 방법에 따라 코드를 수정\n",
    "\n",
    "# 데이터 로더 설정\n",
    "batch_size = 8\n",
    "dataloader = DataLoader(dataset, batch_size=batch_size, shuffle=True, collate_fn=lambda x: tuple(zip(*x)))\n",
    "\n",
    "# YOLOv5 모델 생성\n",
    "from yolov5.models import YOLOv5\n",
    "\n",
    "device = torch.device('cuda' if torch.cuda.is_available() else 'cpu')\n",
    "model = YOLOv5(num_classes=...).to(device)  # 클래스 개수에 따라 변경\n",
    "\n",
    "# 옵티마이저 설정\n",
    "optimizer = torch.optim.Adam(model.parameters(), lr=0.001)\n",
    "\n",
    "# 손실 함수 설정 (YoloLoss 사용 예시)\n",
    "from yolov5.loss import YoloLoss\n",
    "\n",
    "criterion = YoloLoss(...).to(device)  # 필요한 인자들에 따라 설정 (예: anchors, num_classes 등)\n",
    "\n",
    "# 학습 설정\n",
    "epochs = 10\n",
    "\n",
    "# 훈련 시작\n",
    "model.train()\n",
    "for epoch in range(epochs):\n",
    "    total_loss = 0.0\n",
    "    for batch in tqdm(dataloader, desc=f'Epoch {epoch + 1}/{epochs}'):\n",
    "        imgs, targets = batch\n",
    "\n",
    "        imgs = [F.to_tensor(img).to(device) for img in imgs]\n",
    "        targets = [{k: v.to(device) for k, v in t.items()} for t in targets]\n",
    "\n",
    "        # Forward\n",
    "        outputs = model(imgs)\n",
    "\n",
    "        # Loss 계산\n",
    "        loss = criterion(outputs, targets)\n",
    "\n",
    "        # Backward\n",
    "        optimizer.zero_grad()\n",
    "        loss.backward()\n",
    "        optimizer.step()\n",
    "\n",
    "        total_loss += loss.item()\n",
    "\n",
    "    print(f\"Epoch {epoch + 1}/{epochs}, Loss: {total_loss / len(dataloader)}\")\n",
    "\n",
    "# 훈련된 모델 저장\n",
    "model_save_path = 'path_to_save_model.pth'\n",
    "torch.save(model.state_dict(), model_save_path)\n"
   ]
  },
  {
   "cell_type": "code",
   "execution_count": null,
   "id": "0dceb94a",
   "metadata": {},
   "outputs": [],
   "source": []
  }
 ],
 "metadata": {
  "kernelspec": {
   "display_name": "Python 3 (ipykernel)",
   "language": "python",
   "name": "python3"
  },
  "language_info": {
   "codemirror_mode": {
    "name": "ipython",
    "version": 3
   },
   "file_extension": ".py",
   "mimetype": "text/x-python",
   "name": "python",
   "nbconvert_exporter": "python",
   "pygments_lexer": "ipython3",
   "version": "3.9.13"
  }
 },
 "nbformat": 4,
 "nbformat_minor": 5
}
